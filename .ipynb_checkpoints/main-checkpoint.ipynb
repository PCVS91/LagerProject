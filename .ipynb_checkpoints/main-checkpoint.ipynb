{
 "cells": [
  {
   "cell_type": "code",
   "execution_count": 16,
   "id": "fb4dc22f-b7f8-40aa-8399-4763ef5148b5",
   "metadata": {},
   "outputs": [],
   "source": [
    "from Classes import *\n",
    "import random as rd\n",
    "import copy\n",
    "import numpy as np"
   ]
  },
  {
   "cell_type": "code",
   "execution_count": 17,
   "id": "b0443461-dd2c-459d-b3d4-765a525d4dcd",
   "metadata": {},
   "outputs": [],
   "source": [
    "# Build regals\n",
    "sections1=[]\n",
    "sections2=[]\n",
    "for i in range(20):\n",
    "    r = rd.randint(1,3)\n",
    "    sections1.append(Section(racks=[r,r,r],distance=i))\n",
    "    r2 = rd.randint(1,3)\n",
    "    sections2.append(Section(racks=[r2,r2,r2],distance=i))\n",
    "regal1=Regal(sections1)\n",
    "regal2=Regal(sections2)"
   ]
  },
  {
   "cell_type": "code",
   "execution_count": 18,
   "id": "0a61954c-4478-48ba-99e9-1c4fb370ef82",
   "metadata": {},
   "outputs": [],
   "source": [
    "# Pick up\n",
    "def pick(reg1, reg2, platz, choice):\n",
    "    \n",
    "    if choice == 0:\n",
    "        regal1 = reg1\n",
    "        regal2 = reg2\n",
    "    else:\n",
    "        regal1 = reg2\n",
    "        regal2 = reg1\n",
    "        \n",
    "    ref_d=regal1.tuples[platz][0]\n",
    "    ref_code=regal1.tuples[platz][1]\n",
    "    error = 0.0\n",
    "    for shelf in regal1.tuples:\n",
    "        if regal1.tuples[shelf][1] == ref_code:\n",
    "            if abs(regal1.tuples[shelf][0]-ref_d)==1:\n",
    "                error += 5\n",
    "            if abs(regal1.tuples[shelf][0]-ref_d)==2:\n",
    "                error += 2\n",
    "            if abs(regal1.tuples[shelf][0]-ref_d)==3:\n",
    "                error += 1\n",
    "            if abs(regal1.tuples[shelf][0]-ref_d)==4:\n",
    "                error += 0.5\n",
    "                \n",
    "    for shelf in regal2.tuples:\n",
    "        if regal2.tuples[shelf][1] == ref_code:\n",
    "            if abs(regal2.tuples[shelf][0]-ref_d)==0:\n",
    "                error += 5\n",
    "            if abs(regal2.tuples[shelf][0]-ref_d)==1:\n",
    "                error += 3\n",
    "            if abs(regal2.tuples[shelf][0]-ref_d)==2:\n",
    "                error += 1\n",
    "            if abs(regal2.tuples[shelf][0]-ref_d)==3:\n",
    "                error += 0.5\n",
    "    return error"
   ]
  },
  {
   "cell_type": "code",
   "execution_count": 19,
   "id": "6e5977e9-e9b1-4e59-ae91-f4d8aa547184",
   "metadata": {},
   "outputs": [
    {
     "name": "stdout",
     "output_type": "stream",
     "text": [
      "Building Samples\n"
     ]
    }
   ],
   "source": [
    "n1 = 10000\n",
    "i1 = 100\n",
    "n2 = 1000\n",
    "i2 = 1000\n",
    "n3 = 100\n",
    "i3 = 10000\n",
    "samples1=[(regal1,regal2)]\n",
    "samples_tuples1=[(regal1.tuples,regal2.tuples)]\n",
    "# Build samples\n",
    "print(\"Building Samples\")\n",
    "for _ in range(n1):\n",
    "\n",
    "    regal1.shuffle()\n",
    "    regal2.shuffle()\n",
    "    r1=copy.deepcopy(regal1)\n",
    "    r2=copy.deepcopy(regal2)\n",
    "\n",
    "    \n",
    "    # Tabu\n",
    "    while (r1.tuples, r2.tuples) in samples_tuples1:\n",
    "        regal1.shuffle()\n",
    "        regal2.shuffle()\n",
    "        r1=copy.deepcopy(regal1)\n",
    "        r2=copy.deepcopy(regal2)\n",
    "\n",
    "    samples1.append((r1,r2))\n",
    "    samples_tuples1.append((r1.tuples,r2.tuples))"
   ]
  },
  {
   "cell_type": "code",
   "execution_count": null,
   "id": "3c3bb213-372a-4b83-a8ad-3a3b83cfc401",
   "metadata": {},
   "outputs": [
    {
     "name": "stdout",
     "output_type": "stream",
     "text": [
      "Starting filter 1\n"
     ]
    }
   ],
   "source": [
    "    \n",
    "# First filter\n",
    "print(\"Starting filter 1\")\n",
    "solutions1=[]\n",
    "samples2=[]\n",
    "for (r1 ,r2) in samples1:\n",
    "    error = np.zeros(i1, dtype=np.float16)\n",
    "    for i in range(i1):\n",
    "        corr=(r1, r2)\n",
    "        choice = rd.randint(0,1)\n",
    "        platz = rd.randint(1,len(corr[choice]))\n",
    "        error[i]=pick(r1, r2, platz, choice)\n",
    "    e=sum(error)/i1\n",
    "    if len(solutions1)<n2:\n",
    "        solutions1.append(e)\n",
    "        samples2.append((r1,r2))\n",
    "    else:\n",
    "        if e < max:\n",
    "            samples2[solutions1.index(max)]=((r1,r2))\n",
    "            solutions1[solutions1.index(max)]=e\n",
    "            \n",
    "    max=np.max(solutions1)\n",
    "    \n",
    "# Second filter\n",
    "print(\"Starting filter 2\")\n",
    "solutions2=[]\n",
    "samples3=[]\n",
    "for (r1 ,r2) in samples2:\n",
    "    error = np.zeros(i2, dtype=np.float16)\n",
    "    for i in range(i2):\n",
    "        corr=(r1, r2)\n",
    "        choice = rd.randint(0,1)\n",
    "        platz = rd.randint(1,len(corr[choice]))\n",
    "        error[i]=pick(r1, r2, platz, choice)\n",
    "    e=sum(error)/i2\n",
    "    if len(solutions2)<n3:\n",
    "        solutions2.append(e)\n",
    "        samples3.append((r1,r2))\n",
    "    else:\n",
    "        if e < max:\n",
    "            samples3[solutions2.index(max)]=((r1,r2))\n",
    "            solutions2[solutions2.index(max)]=e\n",
    "            \n",
    "    max=np.max(solutions2)\n",
    "    \n",
    "# Third filter\n",
    "print(\"Starting filter 3\")\n",
    "solutions3=[]\n",
    "samples4=[]\n",
    "for (r1 ,r2) in samples3:\n",
    "    error = np.zeros(i3, dtype=np.float16)\n",
    "    for i in range(i3):\n",
    "        corr=(r1, r2)\n",
    "        choice = rd.randint(0,1)\n",
    "        platz = rd.randint(1,len(corr[choice]))\n",
    "        error[i]=pick(r1, r2, platz, choice)\n",
    "    e=sum(error)/i3\n",
    "    \n",
    "    samples4.append((r1,r2))\n",
    "    solutions3.append(e)\n",
    "    \n",
    "error=np.min(solutions3)\n",
    "solution=samples3[solutions3.index(error)]\n",
    "\n",
    "\n",
    "print(f'Error: {error} %')\n",
    "print(solutions3.index(error))"
   ]
  }
 ],
 "metadata": {
  "kernelspec": {
   "display_name": "Python 3 (ipykernel)",
   "language": "python",
   "name": "python3"
  },
  "language_info": {
   "codemirror_mode": {
    "name": "ipython",
    "version": 3
   },
   "file_extension": ".py",
   "mimetype": "text/x-python",
   "name": "python",
   "nbconvert_exporter": "python",
   "pygments_lexer": "ipython3",
   "version": "3.12.2"
  }
 },
 "nbformat": 4,
 "nbformat_minor": 5
}
