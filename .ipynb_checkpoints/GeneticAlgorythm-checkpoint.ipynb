{
 "cells": [
  {
   "cell_type": "code",
   "execution_count": 1,
   "id": "e0330581-0bf1-4973-85c9-23142c34626d",
   "metadata": {},
   "outputs": [],
   "source": [
    "import random as rd\n",
    "import numpy as np\n",
    "import copy\n",
    "from Classes import *\n",
    "from typing import List, Tuple"
   ]
  },
  {
   "cell_type": "code",
   "execution_count": 2,
   "id": "4628afc4-5d0d-46a3-90c6-b4c385259989",
   "metadata": {},
   "outputs": [],
   "source": [
    "def pick(corr: Corr, platz: int, choice: int) -> float:\n",
    "    # Redefine regal1 and regal2 based on choice\n",
    "    regal1, regal2 = (corr.regal1, corr.regal2) if choice == 0 else (corr.regal2, corr.regal1)\n",
    "    \n",
    "    # Extract reference distance and code from the chosen regal\n",
    "    ref_d = regal1.tuples[platz][0]\n",
    "    ref_code = regal1.tuples[platz][1]\n",
    "    \n",
    "    # Calculate error based on both regals within the corridor\n",
    "    total_error = 0.0\n",
    "    for regal in [regal1, regal2]:\n",
    "        for shelf in regal.tuples:\n",
    "            if regal.tuples[shelf][1] == ref_code:\n",
    "                error_distance = abs(regal.tuples[shelf][0] - ref_d)\n",
    "                if error_distance == 0 and regal is not regal1:\n",
    "                    continue  # Skip adding error if distance is 0 and not in the correct regal\n",
    "                if error_distance == 0:\n",
    "                    total_error += 5\n",
    "                elif error_distance == 1:\n",
    "                    total_error += 3 if regal is regal2 else 5\n",
    "                elif error_distance == 2:\n",
    "                    total_error += 1 if regal is regal2 else 2\n",
    "                elif error_distance == 3:\n",
    "                    total_error += 0.5 if regal is regal2 else 1\n",
    "                elif error_distance == 4 and regal is regal1:\n",
    "                    total_error += 0.5\n",
    "\n",
    "    return total_error\n"
   ]
  },
  {
   "cell_type": "code",
   "execution_count": 15,
   "id": "4699dc18-0958-47a4-9d9c-3403733f2d6f",
   "metadata": {},
   "outputs": [],
   "source": [
    "def calculate_fitness(corr: Corr) -> float:\n",
    "    total_error = 0.0\n",
    "    for _ in range(1000):  # Sampling 1000 picks for fitness evaluation\n",
    "        choice = rd.randint(0, 1)\n",
    "        platz = rd.randint(1, len(corr.regal1.tuples) if choice == 0 else len(corr.regal2.tuples))\n",
    "        error = pick(corr, platz, choice)\n",
    "        total_error += error\n",
    "    return total_error / 1000\n",
    "\n",
    "# Initialize population with different numbers of sections for regal1 and regal2\n",
    "def initialize_population(pop_size: int, num_sections_regal1: int, num_sections_regal2: int) -> List[Tuple[Regal, Regal]]:\n",
    "    population = []\n",
    "    for _ in range(pop_size):\n",
    "        sections1 = [Section(racks=[rd.randint(1, 3) for _ in range(3)], distance=i) for i in range(num_sections_regal1)]\n",
    "        sections2 = [Section(racks=[rd.randint(1, 3) for _ in range(3)], distance=i) for i in range(num_sections_regal2)]\n",
    "        regal1 = Regal(sections1)\n",
    "        regal2 = Regal(sections2)\n",
    "        population.append(Corr(regal1, regal2))\n",
    "    return population\n",
    "\n",
    "def select_parents(population: List[Corr], fitnesses: List[float], num_parents: int) -> List[Corr]:\n",
    "    selected = np.random.choice(population, size=num_parents, p=fitnesses / np.sum(fitnesses))\n",
    "    return selected.tolist()\n",
    "\n",
    "def crossover(parent1: Corr, parent2: Corr) -> Tuple[Corr, Corr]:\n",
    "    crossover_point = rd.randint(1, len(parent1.regal1.sections) - 1)\n",
    "    child1_regal1_sections = parent1.regal1.sections[:crossover_point] + parent2.regal1.sections[crossover_point:]\n",
    "    child1_regal2_sections = parent1.regal2.sections[:crossover_point] + parent2.regal2.sections[crossover_point:]\n",
    "    child2_regal1_sections = parent2.regal1.sections[:crossover_point] + parent1.regal1.sections[crossover_point:]\n",
    "    child2_regal2_sections = parent2.regal2.sections[:crossover_point] + parent1.regal2.sections[crossover_point:]\n",
    "    return Corr(Regal(child1_regal1_sections), Regal(child1_regal2_sections)), Corr(Regal(child2_regal1_sections), Regal(child2_regal2_sections))\n",
    "\n",
    "def mutate(corr: Corr, mutation_rate: float):\n",
    "    for regal in [corr.regal1, corr.regal2]:\n",
    "        for section in regal.sections:\n",
    "            if rd.random() < mutation_rate:\n",
    "                section.fix()\n",
    "\n",
    "def genetic_algorithm(pop_size: int, num_generations: int, num_sections: List[int], mutation_rate: float) -> Corr:\n",
    "    population = initialize_population(pop_size, num_sections[0],num_sections[1])\n",
    "    best_solution = None\n",
    "    best_fitness = float('inf')\n",
    "\n",
    "    for generation in range(num_generations):\n",
    "        fitnesses = [calculate_fitness(corr) for corr in population]\n",
    "        min_fitness_idx = fitnesses.index(min(fitnesses))\n",
    "        if fitnesses[min_fitness_idx] < best_fitness:\n",
    "            best_fitness = fitnesses[min_fitness_idx]\n",
    "            best_solution = population[min_fitness_idx]\n",
    "        parents = select_parents(population, fitnesses, pop_size // 2)\n",
    "        offspring = []\n",
    "        for i in range(0, len(parents), 2):\n",
    "            if i + 1 < len(parents):\n",
    "                child1, child2 = crossover(parents[i], parents[i + 1])\n",
    "                mutate(child1, mutation_rate)\n",
    "                mutate(child2, mutation_rate)\n",
    "                offspring.append(child1)\n",
    "                offspring.append(child2)\n",
    "        population = parents + offspring\n",
    "\n",
    "    return best_solution\n"
   ]
  },
  {
   "cell_type": "code",
   "execution_count": 17,
   "id": "e1f8fe59-7991-47e4-8883-f3b2848b8cc8",
   "metadata": {},
   "outputs": [],
   "source": [
    "solution = genetic_algorithm(100,10,[20,20],0.01)"
   ]
  },
  {
   "cell_type": "code",
   "execution_count": 18,
   "id": "a9b17f90-010e-45ff-8e14-c4bf79f2bc76",
   "metadata": {},
   "outputs": [
    {
     "name": "stdout",
     "output_type": "stream",
     "text": [
      "7.728\n"
     ]
    }
   ],
   "source": [
    "print(calculate_fitness(solution))"
   ]
  },
  {
   "cell_type": "code",
   "execution_count": null,
   "id": "45978514-19b7-4dc5-b6d1-eb0746331ccc",
   "metadata": {},
   "outputs": [],
   "source": []
  }
 ],
 "metadata": {
  "kernelspec": {
   "display_name": "Python 3 (ipykernel)",
   "language": "python",
   "name": "python3"
  },
  "language_info": {
   "codemirror_mode": {
    "name": "ipython",
    "version": 3
   },
   "file_extension": ".py",
   "mimetype": "text/x-python",
   "name": "python",
   "nbconvert_exporter": "python",
   "pygments_lexer": "ipython3",
   "version": "3.12.3"
  }
 },
 "nbformat": 4,
 "nbformat_minor": 5
}
