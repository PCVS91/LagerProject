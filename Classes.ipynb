{
 "cells": [
  {
   "cell_type": "code",
   "execution_count": 51,
   "id": "be9af585-a5c9-4696-9875-f9f271c2a095",
   "metadata": {},
   "outputs": [],
   "source": [
    "#Define rack class\n",
    "import random as rd\n",
    "class Rack:\n",
    "    labels = [11,21,22]\n",
    "    def __init__(self, possitions=1):\n",
    "        self.possitions = possitions\n",
    "        self.codes = {Rack.labels[i]:rd.randint(0,9) for i in range(possitions)}\n",
    "#Define section class. codes cannot be repeated within each section.\n",
    "class Section:\n",
    "    def __init__(self, racks):\n",
    "        self.racks = racks\n",
    "    def \n",
    "        \n",
    "    "
   ]
  },
  {
   "cell_type": "code",
   "execution_count": 52,
   "id": "fc2490ba-5884-4f0f-af70-a38055997825",
   "metadata": {},
   "outputs": [
    {
     "data": {
      "text/plain": [
       "{11: 8, 21: 8, 22: 6}"
      ]
     },
     "execution_count": 52,
     "metadata": {},
     "output_type": "execute_result"
    }
   ],
   "source": [
    "a=Rack(3)\n",
    "a.codes"
   ]
  },
  {
   "cell_type": "code",
   "execution_count": null,
   "id": "c1931a87-a690-4203-9163-4a7b5440ad74",
   "metadata": {},
   "outputs": [],
   "source": []
  }
 ],
 "metadata": {
  "kernelspec": {
   "display_name": "Python 3 (ipykernel)",
   "language": "python",
   "name": "python3"
  },
  "language_info": {
   "codemirror_mode": {
    "name": "ipython",
    "version": 3
   },
   "file_extension": ".py",
   "mimetype": "text/x-python",
   "name": "python",
   "nbconvert_exporter": "python",
   "pygments_lexer": "ipython3",
   "version": "3.12.2"
  }
 },
 "nbformat": 4,
 "nbformat_minor": 5
}
