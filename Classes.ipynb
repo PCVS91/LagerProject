{
 "cells": [
  {
   "cell_type": "code",
   "execution_count": 3,
   "id": "be9af585-a5c9-4696-9875-f9f271c2a095",
   "metadata": {},
   "outputs": [],
   "source": [
    "# Define rack class\n",
    "import random as rd\n",
    "class Rack:\n",
    "    labels = [11,21,22]\n",
    "    def __init__(self, positions=1, distance=0):\n",
    "        numbers = list(range(10))\n",
    "        self.distance=distance\n",
    "        rd.shuffle(numbers)\n",
    "        self.positions = positions\n",
    "        self.codes = {Rack.labels[0]:numbers[0]}\n",
    "        if positions > 1:\n",
    "            self.codes[Rack.labels[1]] = (numbers[0]+1) % 10\n",
    "        if positions > 2:\n",
    "            self.codes[Rack.labels[2]] = (numbers[0]+2) % 10\n",
    "    def __str__(self):\n",
    "        s=''\n",
    "        for code in self.codes:\n",
    "            s+= f'Shelf: {code}   Confirmation code: {self.codes[code]}\\n'\n",
    "        return s\n",
    "    def __len__(self):\n",
    "        return self.positions\n",
    "# Define section class. codes cannot be repeated within each section.\n",
    "class Section:\n",
    "    \n",
    "    # Check if codes are repeated\n",
    "    def check(self):\n",
    "        codes=[]\n",
    "        for rack in self.racks:\n",
    "            codes.extend(list(rack.codes.values()))\n",
    "        self.good = True if len(set(codes)) == len(codes) else False\n",
    "        return self.good\n",
    "        \n",
    "    # Generate new codes\n",
    "    def fix(self):\n",
    "        numbers = list(range(10))\n",
    "        self.good=False\n",
    "        while self.good==False:\n",
    "            for rack in self.racks:\n",
    "                rd.shuffle(numbers)\n",
    "                id1=numbers[0]\n",
    "                rack.codes[Rack.labels[0]] = id1\n",
    "                if rack.positions > 1:\n",
    "                    id2=(id1+1) % 10\n",
    "                    rack.codes[Rack.labels[1]] = id2\n",
    "                if rack.positions > 2:\n",
    "                    id3 = (id2 + 1) % 10\n",
    "                    rack.codes[Rack.labels[2]] = id3\n",
    "            self.good=self.check()\n",
    "    def set_distance(self, distance):\n",
    "        d = 0\n",
    "        for rack in self.racks:\n",
    "            rack.distance = distance*3 + d\n",
    "            d += 1\n",
    "            \n",
    "    def __init__(self, racks, distance=0):\n",
    "        self.racks = []\n",
    "        for rack in racks:\n",
    "            self.racks.append(Rack(rack))\n",
    "        self.check()\n",
    "        self.ite=1\n",
    "        self.distance = distance\n",
    "        self.set_distance(self.distance)\n",
    "        if not self.check():\n",
    "            self.fix()\n",
    "\n",
    "\n",
    "            \n",
    "    def __str__(self):\n",
    "        i=1\n",
    "        s=''\n",
    "        for rack in self.racks:\n",
    "            f=f'Distance: {self.distance}\\n'\n",
    "            s+=f'\\nRack: {i}' + f'{f:>26}'\n",
    "            for code in rack.codes:\n",
    "                s+= f'Shelf: {code}   Confirmation code: {rack.codes[code]}\\n'\n",
    "            i += 1\n",
    "        return s\n",
    "        return self.racks\n",
    "    def __len__(self):\n",
    "        return sum([len(rack) for rack in self.racks])\n",
    "# Class Regal. There are 20 racks in each Regal\n",
    "class Regal:\n",
    "    def __init__(self, sections):\n",
    "    # sections is a list of sections\n",
    "        self.sections = sections\n",
    "        dis = 0\n",
    "        for section in self.sections:\n",
    "            section.set_distance(dis)\n",
    "            dis += 1\n",
    "        self.make_tuples()\n",
    "    def make_tuples(self):\n",
    "        self.tuples = {}\n",
    "        i = 1\n",
    "        for section in self.sections:\n",
    "            for rack in section.racks:\n",
    "                for code in rack.codes:\n",
    "                    self.tuples[i] = (rack.distance, rack.codes[code])\n",
    "                    i += 1\n",
    "    def __str__(self):\n",
    "      return \"\\n\".join(str(section) for section in self.sections)\n",
    "    def __len__(self):\n",
    "        return sum([len(section) for section in self.sections])\n",
    "    def shuffle(self):\n",
    "        for section in self.sections:\n",
    "            section.fix()\n",
    "        self.make_tuples()\n",
    "\n",
    "            \n",
    "# Class Corr. In each regal there are two 'Regals' of 20 racks.\n",
    "class Corr:\n",
    "    def __init__(regal1, regal2):\n",
    "        self.regal1=regal1\n",
    "        self.regal2=regal2"
   ]
  },
  {
   "cell_type": "code",
   "execution_count": 93,
   "id": "fc2490ba-5884-4f0f-af70-a38055997825",
   "metadata": {},
   "outputs": [],
   "source": [
    "a=Rack(3)\n",
    "b=Rack(2)\n",
    "c=Rack(2)\n",
    "s=Section(racks=[3,2,2],distance=2)\n"
   ]
  },
  {
   "cell_type": "code",
   "execution_count": 94,
   "id": "c1931a87-a690-4203-9163-4a7b5440ad74",
   "metadata": {},
   "outputs": [
    {
     "name": "stdout",
     "output_type": "stream",
     "text": [
      "\n",
      "Rack: 1              Distance: 2\n",
      "Shelf: 11   Confirmation code: 1\n",
      "Shelf: 21   Confirmation code: 2\n",
      "Shelf: 22   Confirmation code: 3\n",
      "\n",
      "Rack: 2              Distance: 2\n",
      "Shelf: 11   Confirmation code: 4\n",
      "Shelf: 21   Confirmation code: 5\n",
      "\n",
      "Rack: 3              Distance: 2\n",
      "Shelf: 11   Confirmation code: 9\n",
      "Shelf: 21   Confirmation code: 0\n",
      "\n"
     ]
    }
   ],
   "source": [
    "print(s)"
   ]
  },
  {
   "cell_type": "code",
   "execution_count": 95,
   "id": "9bc9b734-11b0-4b6f-a8e6-9ee7273e2683",
   "metadata": {},
   "outputs": [
    {
     "data": {
      "text/plain": [
       "7"
      ]
     },
     "execution_count": 95,
     "metadata": {},
     "output_type": "execute_result"
    }
   ],
   "source": [
    "len(s)"
   ]
  },
  {
   "cell_type": "code",
   "execution_count": null,
   "id": "d7e79182-5131-425e-a7ce-155677489365",
   "metadata": {},
   "outputs": [],
   "source": []
  }
 ],
 "metadata": {
  "kernelspec": {
   "display_name": "Python 3 (ipykernel)",
   "language": "python",
   "name": "python3"
  },
  "language_info": {
   "codemirror_mode": {
    "name": "ipython",
    "version": 3
   },
   "file_extension": ".py",
   "mimetype": "text/x-python",
   "name": "python",
   "nbconvert_exporter": "python",
   "pygments_lexer": "ipython3",
   "version": "3.12.2"
  }
 },
 "nbformat": 4,
 "nbformat_minor": 5
}
