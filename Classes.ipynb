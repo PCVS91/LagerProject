{
 "cells": [
  {
   "cell_type": "code",
   "execution_count": 252,
   "id": "be9af585-a5c9-4696-9875-f9f271c2a095",
   "metadata": {},
   "outputs": [],
   "source": [
    "#Define rack class\n",
    "import random as rd\n",
    "class Rack:\n",
    "    labels = [11,21,22]\n",
    "    def __init__(self, possitions=1):\n",
    "        numbers = list(range(10))\n",
    "        rd.shuffle(numbers)\n",
    "        self.possitions = possitions\n",
    "        self.codes = {Rack.labels[i]:numbers[i] for i in range(possitions)}\n",
    "    def __str__(self):\n",
    "        s=''\n",
    "        for code in self.codes:\n",
    "            s+= f'Shelf: {code}   Confirmation code: {self.codes[code]}\\n'\n",
    "        return s\n",
    "#Define section class. codes cannot be repeated within each section.\n",
    "class Section:\n",
    "    def check(self):\n",
    "        codes=[]\n",
    "        for rack in self.racks:\n",
    "            codes.extend(list(rack.codes.values()))\n",
    "        good = True if len(set(codes)) == len(codes) else False\n",
    "        return good\n",
    "    def fix(self):\n",
    "        numbers = list(range(10))\n",
    "        rd.shuffle(numbers)\n",
    "        for rack in self.racks:\n",
    "            rack.codes = {Rack.labels[i]:numbers.pop(0) for i in range(rack.possitions)}\n",
    "    def __init__(self, racks):\n",
    "        self.racks = racks\n",
    "        self.good=self.check()\n",
    "        self.ite=1\n",
    "        while self.good==False:\n",
    "            self.fix()\n",
    "            self.good=self.check()\n",
    "            self.ite+=1\n",
    "            \n",
    "    def __str__(self):\n",
    "        i=1\n",
    "        s=''\n",
    "        for rack in self.racks:\n",
    "            s+=f'\\nRack: {i}\\n'\n",
    "            for code in rack.codes:\n",
    "                s+= f'Shelf: {code}   Confirmation code: {rack.codes[code]}\\n'\n",
    "            i += 1\n",
    "        return s\n",
    "        return self.racks\n",
    "    "
   ]
  },
  {
   "cell_type": "code",
   "execution_count": 262,
   "id": "fc2490ba-5884-4f0f-af70-a38055997825",
   "metadata": {},
   "outputs": [
    {
     "name": "stdout",
     "output_type": "stream",
     "text": [
      "\n",
      "Rack: 1\n",
      "Shelf: 11   Confirmation code: 2\n",
      "Shelf: 21   Confirmation code: 7\n",
      "Shelf: 22   Confirmation code: 3\n",
      "\n",
      "Rack: 2\n",
      "Shelf: 11   Confirmation code: 8\n",
      "Shelf: 21   Confirmation code: 6\n",
      "\n",
      "Rack: 3\n",
      "Shelf: 11   Confirmation code: 4\n",
      "Shelf: 21   Confirmation code: 5\n",
      "\n"
     ]
    }
   ],
   "source": [
    "a=Rack(3)\n",
    "b=Rack(2)\n",
    "c=Rack(2)\n",
    "s=Section([a,b,c])\n",
    "print(s)"
   ]
  },
  {
   "cell_type": "code",
   "execution_count": 263,
   "id": "c1931a87-a690-4203-9163-4a7b5440ad74",
   "metadata": {},
   "outputs": [
    {
     "data": {
      "text/plain": [
       "1"
      ]
     },
     "execution_count": 263,
     "metadata": {},
     "output_type": "execute_result"
    }
   ],
   "source": [
    "s.ite"
   ]
  },
  {
   "cell_type": "code",
   "execution_count": 240,
   "id": "9bc9b734-11b0-4b6f-a8e6-9ee7273e2683",
   "metadata": {},
   "outputs": [
    {
     "name": "stdout",
     "output_type": "stream",
     "text": [
      "True\n"
     ]
    }
   ],
   "source": [
    "codes=[]\n",
    "for rack in s.racks:\n",
    "    codes.extend(list(rack.codes.values()))\n",
    "good = True if len(set(codes)) == len(codes) else False\n",
    "print(good)"
   ]
  },
  {
   "cell_type": "code",
   "execution_count": null,
   "id": "d7e79182-5131-425e-a7ce-155677489365",
   "metadata": {},
   "outputs": [],
   "source": []
  }
 ],
 "metadata": {
  "kernelspec": {
   "display_name": "Python 3 (ipykernel)",
   "language": "python",
   "name": "python3"
  },
  "language_info": {
   "codemirror_mode": {
    "name": "ipython",
    "version": 3
   },
   "file_extension": ".py",
   "mimetype": "text/x-python",
   "name": "python",
   "nbconvert_exporter": "python",
   "pygments_lexer": "ipython3",
   "version": "3.12.2"
  }
 },
 "nbformat": 4,
 "nbformat_minor": 5
}
